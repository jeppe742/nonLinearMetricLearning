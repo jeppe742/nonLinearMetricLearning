{
 "cells": [
  {
   "cell_type": "code",
   "execution_count": null,
   "metadata": {},
   "outputs": [],
   "source": [
    "from NLMNN import NLMNN\n",
    "from sklearn.datasets import load_iris, load_wine, load_breast_cancer\n",
    "from sklearn.neighbors import KNeighborsClassifier\n",
    "from sklearn.model_selection import cross_validate, GridSearchCV\n",
    "from sklearn.decomposition import PCA\n",
    "import matplotlib.pyplot as plt\n",
    "from KNN_wrappers import LMNNClassifier, Chi2Classifier, NLMNNClassifier\n",
    "import numpy as np\n",
    "import glob\n",
    "import scipy\n",
    "%load_ext autoreload\n",
    "%autoreload 2"
   ]
  },
  {
   "cell_type": "code",
   "execution_count": null,
   "metadata": {},
   "outputs": [],
   "source": [
    "%matplotlib notebook"
   ]
  },
  {
   "cell_type": "code",
   "execution_count": null,
   "metadata": {},
   "outputs": [],
   "source": [
    "\n",
    "classes = {\n",
    "    'back_pack':1,\n",
    "    'bike':2,\n",
    "    'calculator':3,\n",
    "    'headphones':4,\n",
    "    'keyboard':5,\n",
    "    'laptop_computer':6,\n",
    "    'monitor':7,\n",
    "    'mouse':8,\n",
    "    'mug':9,\n",
    "    'projector':10,\n",
    "}\n",
    "X = []\n",
    "targets=[]\n",
    "for file in glob.glob('data/webcam/*/*/*.mat'):\n",
    "    \n",
    "    target = file.split('/')[3]\n",
    "    if target in classes:\n",
    "        targets.append(classes[target])\n",
    "        X.append(scipy.io.loadmat(file)['histogram'])\n",
    "X = np.asarray(X, dtype=np.float).squeeze()\n",
    "y = np.asarray(targets)\n",
    "\n",
    "n,d = X.shape\n",
    "\n",
    "X = X/np.sum(X, axis=1, keepdims=True)\n"
   ]
  },
  {
   "cell_type": "code",
   "execution_count": null,
   "metadata": {},
   "outputs": [],
   "source": [
    "\n",
    "scores_c1 = cross_validate(LMNNClassifier(k=3, train=False, pca=10), X, y, cv=5, return_train_score=True, return_estimator=True )\n",
    "scores_c2 = cross_validate(Chi2Classifier(k=3, r=10), X, y, cv=5, return_train_score=True, return_estimator=True )\n",
    "\n",
    "steps=10\n",
    "parameters = {'mu': np.logspace(-2,2, num=steps)}\n",
    "model = LMNNClassifier(k=3, pca=10)\n",
    "clf_lmnn = GridSearchCV(model, parameters, cv=5, verbose=3, n_jobs=10)\n",
    "clf_lmnn.fit(X,y)"
   ]
  },
  {
   "cell_type": "code",
   "execution_count": null,
   "metadata": {},
   "outputs": [],
   "source": [
    "model = NLMNNClassifier(k=3, r=10, use_softmax=False)\n",
    "clf = GridSearchCV(model, parameters, cv=5, verbose=3, n_jobs=10)\n",
    "clf.fit(X,y)"
   ]
  },
  {
   "cell_type": "code",
   "execution_count": null,
   "metadata": {},
   "outputs": [],
   "source": [
    "clf.best_estimator_.nlmnn.plot_debug()"
   ]
  },
  {
   "cell_type": "code",
   "execution_count": null,
   "metadata": {},
   "outputs": [],
   "source": [
    "plt.figure()\n",
    "plt.imshow(clf.best_estimator_.nlmnn.L.T, aspect='auto')\n",
    "plt.colorbar()"
   ]
  },
  {
   "cell_type": "code",
   "execution_count": null,
   "metadata": {},
   "outputs": [],
   "source": [
    "print(f\"normal           KNN train acc={np.mean(scores_c1['test_score']):.3f} +- {np.std(scores_c1['test_score'])/np.sqrt(5):.3f},  test acc={np.mean(scores_c1['test_score']):.3f} +- {np.std(scores_c1['test_score'])/np.sqrt(5):.3f}\")\n",
    "print(f\"trained    LMNN  KNN train acc={clf_lmnn.cv_results_['mean_train_score'][clf_lmnn.best_index_]:.3f} +- {clf_lmnn.cv_results_['std_train_score'][clf_lmnn.best_index_]/np.sqrt(5):.3f},  test acc={clf_lmnn.cv_results_['mean_test_score'][clf_lmnn.best_index_]:.3f} +- {clf_lmnn.cv_results_['std_test_score'][clf_lmnn.best_index_]/np.sqrt(5):.3f}\")\n",
    "print(f\"untrained NLMNN  KNN train acc={np.mean(scores_c2['train_score']):.3f} +- {np.std(scores_c2['train_score'])/np.sqrt(5):.3f},  test acc={np.mean(scores_c2['test_score']):.3f} +- {np.std(scores_c2['test_score'])/np.sqrt(5):.3f}\")\n",
    "print(f\"trained   NLMNN  KNN train acc={clf.cv_results_['mean_train_score'][clf.best_index_]:.3f} +- {clf.cv_results_['std_train_score'][clf.best_index_]/np.sqrt(5):.3f},  test acc={clf.cv_results_['mean_test_score'][clf.best_index_]:.3f} +- {clf.cv_results_['std_test_score'][clf.best_index_]/np.sqrt(5):.3f}\")\n"
   ]
  },
  {
   "cell_type": "code",
   "execution_count": null,
   "metadata": {},
   "outputs": [],
   "source": [
    "parameters={'l':np.logspace(-2,1,num=10)}\n",
    "model = NLMNNClassifier(k=3, r=10, use_softmax=False,mu=clf.best_params_['mu'])\n",
    "clf_l = GridSearchCV(model, parameters, cv=5, verbose=3, n_jobs=10)\n",
    "clf_l.fit(X,y)"
   ]
  },
  {
   "cell_type": "code",
   "execution_count": null,
   "metadata": {},
   "outputs": [],
   "source": [
    "print(f\"trained   NLMNN  KNN train acc={clf_l.cv_results_['mean_train_score'][clf_l.best_index_]:.3f} +- {clf_l.cv_results_['std_train_score'][clf_l.best_index_]/np.sqrt(5):.3f},  test acc={clf_l.cv_results_['mean_test_score'][clf_l.best_index_]:.3f} +- {clf_l.cv_results_['std_test_score'][clf_l.best_index_]/np.sqrt(5):.3f}\")\n"
   ]
  },
  {
   "cell_type": "code",
   "execution_count": null,
   "metadata": {},
   "outputs": [],
   "source": [
    "plt.figure()\n",
    "plt.plot(clf_l.cv_results_['param_l'].data,clf_l.cv_results_['mean_fit_time'])\n",
    "plt.xscale('log')\n"
   ]
  },
  {
   "cell_type": "code",
   "execution_count": null,
   "metadata": {},
   "outputs": [],
   "source": [
    "\n",
    "plt.figure()\n",
    "plt.subplot(211)\n",
    "plt.plot(clf.cv_results_['param_mu'].data,clf.cv_results_['mean_test_score'], label='r=10')\n",
    "#These numbers are taken from the webcam_20 notebook\n",
    "plt.plot(clf.cv_results_['param_mu'].data,[0.8       , 0.81694915, 0.85762712, 0.8779661 , 0.86779661,\n",
    "       0.85084746, 0.82711864, 0.82372881, 0.82372881, 0.81694915], label='r=20')\n",
    "\n",
    "plt.xscale('log')\n",
    "plt.ylabel('Accuracy')\n",
    "label=plt.xlabel('$\\mu$')\n",
    "label.set_fontsize(16)\n",
    "plt.legend()\n",
    "\n",
    "plt.subplot(212)\n",
    "plt.plot(clf_l.cv_results_['param_l'].data,clf_l.cv_results_['mean_test_score'],label='r=10')\n",
    "#These numbers are taken from the webcam_20 notebook\n",
    "plt.plot(clf_l.cv_results_['param_l'].data,[0.8779661 , 0.88135593, 0.86779661, 0.87118644, 0.85084746,\n",
    "       0.85084746, 0.85423729, 0.85423729, 0.85423729, 0.85423729], label='r=20')\n",
    "\n",
    "plt.xscale('log')\n",
    "label=plt.xlabel('$\\ell$')\n",
    "label.set_fontsize(16)\n",
    "plt.ylabel('Accuracy')\n",
    "plt.legend()"
   ]
  },
  {
   "cell_type": "code",
   "execution_count": null,
   "metadata": {},
   "outputs": [],
   "source": [
    "n = NLMNN(k=3, r=10, lr=10000)\n",
    "n.fit(X,y, verbose=True)"
   ]
  },
  {
   "cell_type": "code",
   "execution_count": null,
   "metadata": {},
   "outputs": [],
   "source": [
    "n2 = NLMNN(k=3, r=10, lr=0.1, use_softmax=False)\n",
    "n2.fit(X,y, verbose=True)"
   ]
  },
  {
   "cell_type": "code",
   "execution_count": null,
   "metadata": {},
   "outputs": [],
   "source": [
    "n3 = NLMNN(k=3, r=10, lr=20000)\n",
    "n3.fit(X,y, verbose=True)"
   ]
  },
  {
   "cell_type": "code",
   "execution_count": null,
   "metadata": {
    "scrolled": true
   },
   "outputs": [],
   "source": [
    "plt.figure()\n",
    "plt.plot(n.losses, label='Softmax (lr=10000)')\n",
    "plt.plot(n2.losses, label='Projection (lr=0.01)')\n",
    "plt.plot(n3.losses, label='Softmax (lr=20000)')\n",
    "plt.ylabel('loss')\n",
    "plt.xlabel('Iterations')\n",
    "plt.legend()"
   ]
  }
 ],
 "metadata": {
  "kernelspec": {
   "display_name": "Python 3",
   "language": "python",
   "name": "python3"
  },
  "language_info": {
   "codemirror_mode": {
    "name": "ipython",
    "version": 3
   },
   "file_extension": ".py",
   "mimetype": "text/x-python",
   "name": "python",
   "nbconvert_exporter": "python",
   "pygments_lexer": "ipython3",
   "version": "3.6.8"
  }
 },
 "nbformat": 4,
 "nbformat_minor": 2
}
